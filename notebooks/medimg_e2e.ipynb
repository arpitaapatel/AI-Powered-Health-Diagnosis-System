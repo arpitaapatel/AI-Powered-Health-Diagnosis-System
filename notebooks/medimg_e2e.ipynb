{
  "cells": [
    {
      "cell_type": "markdown",
      "metadata": {},
      "source": [
        "# Chest X-ray Classification (Pneumonia/COVID-19)\n",
        "This notebook demonstrates data loading, training, evaluation, and inference with Grad-CAM.\n",
        "\n",
        "Requirements:\n",
        "- Dataset in `data/` with subfolders per class (e.g., Normal, Pneumonia, COVID-19)\n",
        "- GPU recommended; Apple Silicon supported via `tensorflow-metal`\n"
      ]
    },
    {
      "cell_type": "code",
      "execution_count": null,
      "metadata": {},
      "outputs": [],
      "source": [
        "%pip install -q -r ../../requirements.txt\n"
      ]
    },
    {
      "cell_type": "code",
      "execution_count": null,
      "metadata": {},
      "outputs": [],
      "source": [
        "import os\n",
        "import tensorflow as tf\n",
        "from src.medimg.data import create_datasets\n",
        "from src.medimg.models import build_scratch_cnn, build_resnet50, build_efficientnetb0\n",
        "from src.medimg.utils import compile_model, evaluate_model, compute_gradcam_heatmap\n"
      ]
    },
    {
      "cell_type": "code",
      "execution_count": null,
      "metadata": {},
      "outputs": [],
      "source": [
        "data_dir = '/path/to/data'  # TODO: set\n",
        "train_ds, val_ds, test_ds, class_names = create_datasets(data_dir)\n",
        "input_shape = (224, 224, 3)\n",
        "num_classes = len(class_names)\n",
        "model = compile_model(build_efficientnetb0(input_shape, num_classes), num_classes)\n",
        "history = model.fit(train_ds, validation_data=val_ds, epochs=3)\n",
        "res = evaluate_model(model, test_ds, class_names)\n",
        "print('Accuracy:', (res['y_true'] == res['y_pred']).mean())\n",
        "print('ROC-AUC:', res['roc_auc'])\n"
      ]
    },
    {
      "cell_type": "code",
      "execution_count": null,
      "metadata": {},
      "outputs": [],
      "source": [
        "import numpy as np\n",
        "import matplotlib.pyplot as plt\n",
        "from src.medimg.utils import plot_confusion_matrix, plot_roc_curve, compute_gradcam_heatmap\n",
        "\n",
        "cm_fig = plot_confusion_matrix(res['confusion_matrix'], class_names)\n",
        "plt.show(cm_fig)\n",
        "if res['fpr'] is not None:\n",
        "    roc_fig = plot_roc_curve(res['fpr'], res['tpr'], res['roc_auc'])\n",
        "    plt.show(roc_fig)\n",
        "\n",
        "# Grad-CAM on a single sample\n",
        "for batch_x, batch_y in test_ds.take(1):\n",
        "    x0 = batch_x[0:1]\n",
        "    heatmap = compute_gradcam_heatmap(model, x0)\n",
        "    print('Pred:', np.argmax(model.predict(x0, verbose=0)))\n",
        "    break\n"
      ]
    }
  ],
  "metadata": {
    "language_info": {
      "name": "python"
    }
  },
  "nbformat": 4,
  "nbformat_minor": 2
}
